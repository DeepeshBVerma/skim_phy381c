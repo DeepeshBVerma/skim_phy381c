{
 "cells": [
  {
   "cell_type": "code",
   "execution_count": 1,
   "metadata": {},
   "outputs": [],
   "source": [
    "#Program Name: skim.ipynb \n",
    "#Author: Deepesh B. Verma (dbv293)"
   ]
  },
  {
   "cell_type": "code",
   "execution_count": 2,
   "metadata": {},
   "outputs": [
    {
     "name": "stdout",
     "output_type": "stream",
     "text": [
      "importing Jupyter notebook from parameters.ipynb\n",
      "importing Jupyter notebook from geometry.ipynb\n",
      "importing Jupyter notebook from wrapper.ipynb\n"
     ]
    }
   ],
   "source": [
    "import numpy as np\n",
    "import matplotlib.pyplot as plt\n",
    "import sys\n",
    "import os\n",
    "from optparse import OptionParser\n",
    "import import_ipynb\n",
    "\n",
    "from parameters import *\n",
    "from geometry import *\n",
    "from wrapper import *"
   ]
  },
  {
   "cell_type": "code",
   "execution_count": 3,
   "metadata": {},
   "outputs": [],
   "source": [
    "#Imports necessary inputs parameters and fields from GENE simulation. \n",
    "\n",
    "#Gets the necessary parameters to run SKiM model. \n",
    "suffix = '_0001' #specifc run that we are investigating\n",
    "pars = init_read_parameters_file(suffix)\n",
    "\n",
    "#Gets the magnetic field parameters information for SKiM. \n",
    "geom_type, geom_pars, geom_coeff = init_read_geometry_file(suffix,pars)\n",
    "\n",
    "#Imports frequencies file from GENE. \n",
    "om = np.genfromtxt('omega'+suffix)\n",
    "\n",
    "#Imports the magnetic field from 'magn_geometry'_XXXX file and the coordinates from coord_XXXX file.\n",
    "geom_h5 = h5py.File(geom_type + suffix + '.h5', 'r')\n",
    "coord = h5py.File('coord' + suffix + '.h5', 'r')\n",
    "\n",
    "#Reconstructs the zgrid and the jacobian. \n",
    "zgrid, jacobian = reconstruct_zgrid_h5(geom_h5, coord, pars)\n",
    "\n",
    "#Calculates kperp, omd_curv, omd_gradB, and the magnetic field.\n",
    "kperp, omd_curv, omd_gradB, Bfield = calc_kperp_omd_h5(coord, geom_h5, geom_type, geom_coeff, pars, center_only = False, output_B = True)\n",
    "\n"
   ]
  },
  {
   "cell_type": "code",
   "execution_count": 4,
   "metadata": {},
   "outputs": [],
   "source": [
    "#Imports the eigenfunction phi from the field_XXXX file.\n",
    "phi, apar = eigenfunctions_from_field_file(pars, suffix, center_only = False)\n",
    "\n",
    "def normalize(phi0): \n",
    "    \"\"\" \n",
    "    Normalizes the absolute value of the eignefunction phi to 1. \n",
    "    \"\"\"\n",
    "    phi = phi0.copy()\n",
    "    abs_phi = abs(phi)\n",
    "    max = np.argmax(abs_phi)\n",
    "    phimax = phi[max]\n",
    "    phi /= phimax\n",
    "\n",
    "    return phi\n",
    "\n",
    "#Normalizes the input eigenfunction to 1. \n",
    "phi = normalize(phi)"
   ]
  },
  {
   "cell_type": "code",
   "execution_count": 5,
   "metadata": {},
   "outputs": [],
   "source": [
    "#SKiM Calculation \n",
    "\n",
    "#Calculates the eigen-average of kperp, omd, and the bessel factor. \n",
    "avg_kperp, avg_omd, avg_bessel_factor = eigenfunction_average_bessel(zgrid, jacobian, kperp, omd_curv, phi)\n",
    "\n",
    "#Defines fp. \n",
    "omn = float(pars['omn1'])\n",
    "omt = float(pars['omt1'])\n",
    "gamma = om[1]\n",
    "fp = omn / (omn + omt)\n",
    "\n",
    "#Calculates the root of the bessel function using bisection. Serves as an approximation to kperp.\n",
    "root = bisection_fp(0,avg_kperp,avg_bessel_factor,1.e-4,fp)\n",
    "\n",
    "#Calculates the eigen-average of omd considering full fp effects.\n",
    "avg_omd_full, avg_omd_full_j0 = avg_omegad_bessel_full_omn_omt(zgrid, jacobian, kperp, omd_curv, phi, root, omn, omt)\n",
    "\n",
    "#Calculates the eigen-average of kz considering full fp effects.\n",
    "zmax = max(zgrid)\n",
    "zmin = -zmax \n",
    "avg_kz = kz_from_dfielddz_bessel_full_omn_omt(root, kperp, zgrid, jacobian, phi, omn, omt, zmin, zmax)"
   ]
  },
  {
   "cell_type": "code",
   "execution_count": 6,
   "metadata": {},
   "outputs": [],
   "source": [
    "#Outputs Calculation\n",
    "f = open(\"skim\" + suffix,'w')\n",
    "f.write('#1.avg_kz 2.avg_kperp 3. avg_omd 4. fp 5. gamma\\n')\n",
    "np.savetxt(f,np.column_stack((avg_kz,avg_kperp,avg_omd_full,fp,gamma)),fmt='%4.4f', delimiter = \"  \")\n",
    "f.close()"
   ]
  },
  {
   "cell_type": "code",
   "execution_count": 7,
   "metadata": {},
   "outputs": [
    {
     "name": "stdout",
     "output_type": "stream",
     "text": [
      "0.9553081589335278529 1.6823738789787406336 0.3624953794853734938 0.0 1.621\n"
     ]
    }
   ],
   "source": [
    "#Check to see what is being written to file :/\n",
    "print(avg_kz,avg_kperp,avg_omd_full,fp,gamma)"
   ]
  },
  {
   "cell_type": "code",
   "execution_count": null,
   "metadata": {},
   "outputs": [],
   "source": []
  }
 ],
 "metadata": {
  "kernelspec": {
   "display_name": "Python 3.9.1 64-bit",
   "language": "python",
   "name": "python3"
  },
  "language_info": {
   "codemirror_mode": {
    "name": "ipython",
    "version": 3
   },
   "file_extension": ".py",
   "mimetype": "text/x-python",
   "name": "python",
   "nbconvert_exporter": "python",
   "pygments_lexer": "ipython3",
   "version": "3.9.1"
  },
  "orig_nbformat": 4,
  "vscode": {
   "interpreter": {
    "hash": "aee8b7b246df8f9039afb4144a1f6fd8d2ca17a180786b69acc140d282b71a49"
   }
  }
 },
 "nbformat": 4,
 "nbformat_minor": 2
}
